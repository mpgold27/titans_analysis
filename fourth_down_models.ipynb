{
 "cells": [
  {
   "cell_type": "markdown",
   "id": "89f2524b-3cf0-4bf0-a724-387eac65163b",
   "metadata": {},
   "source": [
    "# Fourth Down Analysis"
   ]
  },
  {
   "cell_type": "markdown",
   "id": "a2799a1a-4997-406d-9ee9-f8ed674c4e5a",
   "metadata": {},
   "source": [
    "#### Import Packages"
   ]
  },
  {
   "cell_type": "code",
   "execution_count": 17,
   "id": "90e20f23-c7b7-406f-aa5b-4c99f8a50f51",
   "metadata": {},
   "outputs": [],
   "source": [
    "import math\n",
    "from matplotlib.lines import Line2D\n",
    "import matplotlib.pyplot as plt\n",
    "from matplotlib.ticker import FuncFormatter\n",
    "import nfl_data_py as nfl\n",
    "import numpy as np\n",
    "import pandas as pd\n",
    "import seaborn as sns\n",
    "import utils\n",
    "import warnings\n",
    "warnings.filterwarnings('ignore')"
   ]
  },
  {
   "cell_type": "markdown",
   "id": "4811692e-b29f-42a5-bb0d-920361998e24",
   "metadata": {},
   "source": [
    "### Load data and process dataframes"
   ]
  },
  {
   "cell_type": "code",
   "execution_count": 3,
   "id": "8c70e5d5-3f2a-4eb0-9380-18cd4e239b68",
   "metadata": {},
   "outputs": [],
   "source": [
    "pdata = pd.read_csv('data/fourth_down.csv.gz', index_col=0)"
   ]
  },
  {
   "cell_type": "code",
   "execution_count": 4,
   "id": "f7f66a65-499c-454a-ba5d-42c6238489c3",
   "metadata": {},
   "outputs": [],
   "source": [
    "## subset onto useful data\n",
    "play_types = ['punt', 'field_goal', 'run', 'pass']\n",
    "cdf = pdata[(pdata['play_type'].isin(play_types)) & (~pdata['go_boost'].isna())]\n",
    "# assign new category for team and season\n",
    "cdf['team_season'] = cdf['posteam'].astype('str') + '__' + cdf['season'].astype('str')\n",
    "## annotate dataframe\n",
    "cdf['should_go'] = [1 if (x > 1) else -1 if (x < -1) else 0 for x in cdf['go_boost']]\n",
    "cdf['go_group'] = [utils.go_group(x) for x in cdf['go_boost']]\n",
    "cdf['go_numcat'] = [utils.roundboost(x) for x in cdf['go_boost']]\n",
    "# assign go_cat from the assigned go to match our names\n",
    "cdf['go_cat'] = [-1 if x == 0 else 1 for x in cdf['go']]\n",
    "cdf['agree'] = (cdf['go_cat'] == cdf['should_go'])\n",
    "## get subset of dataframe in regular season\n",
    "rdf = cdf[cdf['season_type'] == 'REG']"
   ]
  },
  {
   "cell_type": "code",
   "execution_count": 5,
   "id": "8da7cd9f-ba8c-40de-91bb-a003a389e8f6",
   "metadata": {},
   "outputs": [],
   "source": [
    "# Titans dataframe where they are team possessing the ball\n",
    "tdf = pdata[pdata['posteam']=='TEN']\n",
    "# Subset Titans dataframe to exclude fourth quarter and overtime (stored as 5)\n",
    "etdf = tdf[~tdf['qtr'].isin([4, 5])]"
   ]
  },
  {
   "cell_type": "code",
   "execution_count": null,
   "id": "1c1ac48a-0798-4e20-bd76-eebadb7d482e",
   "metadata": {},
   "outputs": [],
   "source": []
  },
  {
   "cell_type": "markdown",
   "id": "6870439b-da6d-4f87-bdd8-94ca7e39ba40",
   "metadata": {},
   "source": [
    "### Fourth down rates by season"
   ]
  },
  {
   "cell_type": "markdown",
   "id": "781d173e-aaf1-4cd1-a403-3c41c539cc93",
   "metadata": {},
   "source": [
    "#### Total"
   ]
  },
  {
   "cell_type": "code",
   "execution_count": 6,
   "id": "47813382-f72b-4c93-9d4f-fbff66c01e75",
   "metadata": {},
   "outputs": [
    {
     "data": {
      "text/html": [
       "<div>\n",
       "<style scoped>\n",
       "    .dataframe tbody tr th:only-of-type {\n",
       "        vertical-align: middle;\n",
       "    }\n",
       "\n",
       "    .dataframe tbody tr th {\n",
       "        vertical-align: top;\n",
       "    }\n",
       "\n",
       "    .dataframe thead th {\n",
       "        text-align: right;\n",
       "    }\n",
       "</style>\n",
       "<table border=\"1\" class=\"dataframe\">\n",
       "  <thead>\n",
       "    <tr style=\"text-align: right;\">\n",
       "      <th></th>\n",
       "      <th>go</th>\n",
       "    </tr>\n",
       "    <tr>\n",
       "      <th>season</th>\n",
       "      <th></th>\n",
       "    </tr>\n",
       "  </thead>\n",
       "  <tbody>\n",
       "    <tr>\n",
       "      <th>2014</th>\n",
       "      <td>11.710986</td>\n",
       "    </tr>\n",
       "    <tr>\n",
       "      <th>2015</th>\n",
       "      <td>11.977642</td>\n",
       "    </tr>\n",
       "    <tr>\n",
       "      <th>2016</th>\n",
       "      <td>12.214984</td>\n",
       "    </tr>\n",
       "    <tr>\n",
       "      <th>2017</th>\n",
       "      <td>12.166405</td>\n",
       "    </tr>\n",
       "    <tr>\n",
       "      <th>2018</th>\n",
       "      <td>14.530635</td>\n",
       "    </tr>\n",
       "    <tr>\n",
       "      <th>2019</th>\n",
       "      <td>15.939227</td>\n",
       "    </tr>\n",
       "    <tr>\n",
       "      <th>2020</th>\n",
       "      <td>18.912530</td>\n",
       "    </tr>\n",
       "    <tr>\n",
       "      <th>2021</th>\n",
       "      <td>20.513506</td>\n",
       "    </tr>\n",
       "    <tr>\n",
       "      <th>2022</th>\n",
       "      <td>18.654196</td>\n",
       "    </tr>\n",
       "    <tr>\n",
       "      <th>2023</th>\n",
       "      <td>19.454181</td>\n",
       "    </tr>\n",
       "  </tbody>\n",
       "</table>\n",
       "</div>"
      ],
      "text/plain": [
       "               go\n",
       "season           \n",
       "2014    11.710986\n",
       "2015    11.977642\n",
       "2016    12.214984\n",
       "2017    12.166405\n",
       "2018    14.530635\n",
       "2019    15.939227\n",
       "2020    18.912530\n",
       "2021    20.513506\n",
       "2022    18.654196\n",
       "2023    19.454181"
      ]
     },
     "execution_count": 6,
     "metadata": {},
     "output_type": "execute_result"
    }
   ],
   "source": [
    "rdf[['season', 'go']].groupby('season').mean()"
   ]
  },
  {
   "cell_type": "markdown",
   "id": "7f2f87a4-a3bd-4f58-8534-3a10ad729b20",
   "metadata": {},
   "source": [
    "#### Under 3 yards"
   ]
  },
  {
   "cell_type": "code",
   "execution_count": 7,
   "id": "5260f0f5-b5fd-4e53-82c8-744ba6cb6735",
   "metadata": {},
   "outputs": [],
   "source": [
    "srdf = rdf[rdf['ydstogo']<=3]"
   ]
  },
  {
   "cell_type": "code",
   "execution_count": 8,
   "id": "91bf216a-3dee-4440-b201-02e0266f2bb8",
   "metadata": {},
   "outputs": [
    {
     "data": {
      "text/html": [
       "<div>\n",
       "<style scoped>\n",
       "    .dataframe tbody tr th:only-of-type {\n",
       "        vertical-align: middle;\n",
       "    }\n",
       "\n",
       "    .dataframe tbody tr th {\n",
       "        vertical-align: top;\n",
       "    }\n",
       "\n",
       "    .dataframe thead th {\n",
       "        text-align: right;\n",
       "    }\n",
       "</style>\n",
       "<table border=\"1\" class=\"dataframe\">\n",
       "  <thead>\n",
       "    <tr style=\"text-align: right;\">\n",
       "      <th></th>\n",
       "      <th>go</th>\n",
       "    </tr>\n",
       "    <tr>\n",
       "      <th>season</th>\n",
       "      <th></th>\n",
       "    </tr>\n",
       "  </thead>\n",
       "  <tbody>\n",
       "    <tr>\n",
       "      <th>2014</th>\n",
       "      <td>24.522613</td>\n",
       "    </tr>\n",
       "    <tr>\n",
       "      <th>2015</th>\n",
       "      <td>24.974824</td>\n",
       "    </tr>\n",
       "    <tr>\n",
       "      <th>2016</th>\n",
       "      <td>28.751312</td>\n",
       "    </tr>\n",
       "    <tr>\n",
       "      <th>2017</th>\n",
       "      <td>26.736842</td>\n",
       "    </tr>\n",
       "    <tr>\n",
       "      <th>2018</th>\n",
       "      <td>35.982340</td>\n",
       "    </tr>\n",
       "    <tr>\n",
       "      <th>2019</th>\n",
       "      <td>39.408284</td>\n",
       "    </tr>\n",
       "    <tr>\n",
       "      <th>2020</th>\n",
       "      <td>45.206972</td>\n",
       "    </tr>\n",
       "    <tr>\n",
       "      <th>2021</th>\n",
       "      <td>47.206166</td>\n",
       "    </tr>\n",
       "    <tr>\n",
       "      <th>2022</th>\n",
       "      <td>44.066237</td>\n",
       "    </tr>\n",
       "    <tr>\n",
       "      <th>2023</th>\n",
       "      <td>46.117424</td>\n",
       "    </tr>\n",
       "  </tbody>\n",
       "</table>\n",
       "</div>"
      ],
      "text/plain": [
       "               go\n",
       "season           \n",
       "2014    24.522613\n",
       "2015    24.974824\n",
       "2016    28.751312\n",
       "2017    26.736842\n",
       "2018    35.982340\n",
       "2019    39.408284\n",
       "2020    45.206972\n",
       "2021    47.206166\n",
       "2022    44.066237\n",
       "2023    46.117424"
      ]
     },
     "execution_count": 8,
     "metadata": {},
     "output_type": "execute_result"
    }
   ],
   "source": [
    "srdf[['season', 'go']].groupby('season').mean()"
   ]
  },
  {
   "cell_type": "code",
   "execution_count": null,
   "id": "a1092e63-552a-48bf-88eb-eadcba4afc05",
   "metadata": {},
   "outputs": [],
   "source": []
  },
  {
   "cell_type": "markdown",
   "id": "cff6b11a-d289-487e-9a54-4138eb3ea7d4",
   "metadata": {},
   "source": [
    "#### Under 3 yards"
   ]
  },
  {
   "cell_type": "code",
   "execution_count": 9,
   "id": "d537f239-ecbe-4607-9ab7-dac7bcd399f1",
   "metadata": {},
   "outputs": [],
   "source": [
    "srdf = rdf[rdf['ydstogo']<=2]"
   ]
  },
  {
   "cell_type": "code",
   "execution_count": 10,
   "id": "81b1cb12-52db-40f9-a965-62991fbd49ff",
   "metadata": {},
   "outputs": [
    {
     "data": {
      "text/html": [
       "<div>\n",
       "<style scoped>\n",
       "    .dataframe tbody tr th:only-of-type {\n",
       "        vertical-align: middle;\n",
       "    }\n",
       "\n",
       "    .dataframe tbody tr th {\n",
       "        vertical-align: top;\n",
       "    }\n",
       "\n",
       "    .dataframe thead th {\n",
       "        text-align: right;\n",
       "    }\n",
       "</style>\n",
       "<table border=\"1\" class=\"dataframe\">\n",
       "  <thead>\n",
       "    <tr style=\"text-align: right;\">\n",
       "      <th></th>\n",
       "      <th>go</th>\n",
       "    </tr>\n",
       "    <tr>\n",
       "      <th>season</th>\n",
       "      <th></th>\n",
       "    </tr>\n",
       "  </thead>\n",
       "  <tbody>\n",
       "    <tr>\n",
       "      <th>2014</th>\n",
       "      <td>29.855072</td>\n",
       "    </tr>\n",
       "    <tr>\n",
       "      <th>2015</th>\n",
       "      <td>31.075110</td>\n",
       "    </tr>\n",
       "    <tr>\n",
       "      <th>2016</th>\n",
       "      <td>33.430233</td>\n",
       "    </tr>\n",
       "    <tr>\n",
       "      <th>2017</th>\n",
       "      <td>32.634731</td>\n",
       "    </tr>\n",
       "    <tr>\n",
       "      <th>2018</th>\n",
       "      <td>44.622793</td>\n",
       "    </tr>\n",
       "    <tr>\n",
       "      <th>2019</th>\n",
       "      <td>48.322148</td>\n",
       "    </tr>\n",
       "    <tr>\n",
       "      <th>2020</th>\n",
       "      <td>54.385965</td>\n",
       "    </tr>\n",
       "    <tr>\n",
       "      <th>2021</th>\n",
       "      <td>57.880795</td>\n",
       "    </tr>\n",
       "    <tr>\n",
       "      <th>2022</th>\n",
       "      <td>51.388889</td>\n",
       "    </tr>\n",
       "    <tr>\n",
       "      <th>2023</th>\n",
       "      <td>55.366492</td>\n",
       "    </tr>\n",
       "  </tbody>\n",
       "</table>\n",
       "</div>"
      ],
      "text/plain": [
       "               go\n",
       "season           \n",
       "2014    29.855072\n",
       "2015    31.075110\n",
       "2016    33.430233\n",
       "2017    32.634731\n",
       "2018    44.622793\n",
       "2019    48.322148\n",
       "2020    54.385965\n",
       "2021    57.880795\n",
       "2022    51.388889\n",
       "2023    55.366492"
      ]
     },
     "execution_count": 10,
     "metadata": {},
     "output_type": "execute_result"
    }
   ],
   "source": [
    "srdf[['season', 'go']].groupby('season').mean()"
   ]
  },
  {
   "cell_type": "markdown",
   "id": "1969d70e-bc06-41f6-bb99-0ae782f5550b",
   "metadata": {},
   "source": [
    "#### Under 1 yards"
   ]
  },
  {
   "cell_type": "code",
   "execution_count": 11,
   "id": "96837d5c-0b6d-493e-8822-edd75ae56266",
   "metadata": {},
   "outputs": [],
   "source": [
    "srdf = rdf[rdf['ydstogo']==1]"
   ]
  },
  {
   "cell_type": "code",
   "execution_count": 12,
   "id": "47c525b0-cce2-4b5b-b2a7-dc3c534ea82a",
   "metadata": {},
   "outputs": [
    {
     "data": {
      "text/html": [
       "<div>\n",
       "<style scoped>\n",
       "    .dataframe tbody tr th:only-of-type {\n",
       "        vertical-align: middle;\n",
       "    }\n",
       "\n",
       "    .dataframe tbody tr th {\n",
       "        vertical-align: top;\n",
       "    }\n",
       "\n",
       "    .dataframe thead th {\n",
       "        text-align: right;\n",
       "    }\n",
       "</style>\n",
       "<table border=\"1\" class=\"dataframe\">\n",
       "  <thead>\n",
       "    <tr style=\"text-align: right;\">\n",
       "      <th></th>\n",
       "      <th>go</th>\n",
       "    </tr>\n",
       "    <tr>\n",
       "      <th>season</th>\n",
       "      <th></th>\n",
       "    </tr>\n",
       "  </thead>\n",
       "  <tbody>\n",
       "    <tr>\n",
       "      <th>2014</th>\n",
       "      <td>41.645244</td>\n",
       "    </tr>\n",
       "    <tr>\n",
       "      <th>2015</th>\n",
       "      <td>42.741935</td>\n",
       "    </tr>\n",
       "    <tr>\n",
       "      <th>2016</th>\n",
       "      <td>42.788462</td>\n",
       "    </tr>\n",
       "    <tr>\n",
       "      <th>2017</th>\n",
       "      <td>44.125326</td>\n",
       "    </tr>\n",
       "    <tr>\n",
       "      <th>2018</th>\n",
       "      <td>57.029178</td>\n",
       "    </tr>\n",
       "    <tr>\n",
       "      <th>2019</th>\n",
       "      <td>58.591549</td>\n",
       "    </tr>\n",
       "    <tr>\n",
       "      <th>2020</th>\n",
       "      <td>66.276347</td>\n",
       "    </tr>\n",
       "    <tr>\n",
       "      <th>2021</th>\n",
       "      <td>69.955157</td>\n",
       "    </tr>\n",
       "    <tr>\n",
       "      <th>2022</th>\n",
       "      <td>62.970711</td>\n",
       "    </tr>\n",
       "    <tr>\n",
       "      <th>2023</th>\n",
       "      <td>66.442953</td>\n",
       "    </tr>\n",
       "  </tbody>\n",
       "</table>\n",
       "</div>"
      ],
      "text/plain": [
       "               go\n",
       "season           \n",
       "2014    41.645244\n",
       "2015    42.741935\n",
       "2016    42.788462\n",
       "2017    44.125326\n",
       "2018    57.029178\n",
       "2019    58.591549\n",
       "2020    66.276347\n",
       "2021    69.955157\n",
       "2022    62.970711\n",
       "2023    66.442953"
      ]
     },
     "execution_count": 12,
     "metadata": {},
     "output_type": "execute_result"
    }
   ],
   "source": [
    "srdf[['season', 'go']].groupby('season').mean()"
   ]
  },
  {
   "cell_type": "code",
   "execution_count": 35,
   "id": "37d75634-caca-4bc5-aec7-670db55e8c9f",
   "metadata": {},
   "outputs": [],
   "source": [
    "a = []\n",
    "for i in np.arange(1,4):\n",
    "    srdf = rdf[rdf['ydstogo']<=i]\n",
    "    a.append(srdf[['season', 'go']].groupby('season').mean().set_axis([str(i)], axis=1).T)\n",
    "    "
   ]
  },
  {
   "cell_type": "code",
   "execution_count": 36,
   "id": "28fb408b-811e-4dff-bee9-5b98fbccc980",
   "metadata": {},
   "outputs": [],
   "source": [
    "fdf = pd.concat(a).unstack().reset_index().set_axis(['season', 'yards', 'percent'], axis=1)"
   ]
  },
  {
   "cell_type": "code",
   "execution_count": 51,
   "id": "bb6eb26a-78c8-432d-92eb-333bc7deb25c",
   "metadata": {},
   "outputs": [],
   "source": [
    "x1 = fdf[fdf['yards']=='1']\n",
    "x2 = fdf[fdf['yards']=='2']\n",
    "x3 = fdf[fdf['yards']=='3']"
   ]
  },
  {
   "cell_type": "code",
   "execution_count": 102,
   "id": "ac79b35f-4c67-4c1d-b6de-9c9eb77ae494",
   "metadata": {},
   "outputs": [
    {
     "data": {
      "text/plain": [
       "[Text(0, 20.0, '20%'),\n",
       " Text(0, 30.0, '30%'),\n",
       " Text(0, 40.0, '40%'),\n",
       " Text(0, 50.0, '50%'),\n",
       " Text(0, 60.0, '60%'),\n",
       " Text(0, 70.0, '70%'),\n",
       " Text(0, 80.0, '80%')]"
      ]
     },
     "execution_count": 102,
     "metadata": {},
     "output_type": "execute_result"
    },
    {
     "data": {
      "image/png": "[encoded data removed]",
      "text/plain": [
       "<Figure size 600x300 with 1 Axes>"
      ]
     },
     "metadata": {},
     "output_type": "display_data"
    }
   ],
   "source": [
    "fig,ax = plt.subplots(figsize=(6,3))\n",
    "ax.scatter(x1['season'], x1['percent'], zorder=1, color='tab:blue')\n",
    "ax.plot(x1['season'], x1['percent'], zorder=2, color='tab:blue')\n",
    "\n",
    "ax.scatter(x2['season'], x2['percent'], zorder=1, color='tab:green')\n",
    "ax.plot(x2['season'], x2['percent'], zorder=2, color='tab:green')\n",
    "\n",
    "# plt.scatter(x3['season'], x3['percent'], zorder=1, color='tab:purple', s=100, edgecolor='black', linewidth=1)\n",
    "ax.scatter(x3['season'], x3['percent'], zorder=1, color='tab:purple')\n",
    "ax.plot(x3['season'], x3['percent'], zorder=2, color='tab:purple')\n",
    "\n",
    "ax.set_xticks(seasons)\n",
    "ax.set_ylabel(\"\"\"Percent 'Go For It'\"\"\", fontsize=11)\n",
    "ax.set_xlabel('Season', fontsize=11)\n",
    "ax.set_title(\"\"\"'Go For It' Rate by Distance Across Seasons\"\"\", fontsize=13)\n",
    "\n",
    "legend_elements = [\n",
    "    Line2D([0], [0], color='tab:blue', lw=3, label='<1 yard to go'),\n",
    "    Line2D([0], [0], color='tab:green', lw=3, label='<2 yards to go'),\n",
    "    Line2D([0], [0], color='tab:purple', lw=3, label='<3 yards to go')\n",
    "]\n",
    "\n",
    "ax.legend(handles=legend_elements, loc='best')\n",
    "yticks = ax.get_yticks()\n",
    "ax.set_yticklabels([f'{int(y)}%' for y in yticks])"
   ]
  },
  {
   "cell_type": "code",
   "execution_count": null,
   "id": "dc67d94b-d2a4-4a13-8cca-3c0962bf244a",
   "metadata": {},
   "outputs": [],
   "source": []
  },
  {
   "cell_type": "markdown",
   "id": "dc23ee1a-2d66-44ec-91d3-b7354bc09011",
   "metadata": {},
   "source": [
    "### Team agreement"
   ]
  },
  {
   "cell_type": "code",
   "execution_count": 50,
   "id": "42afc0bb-09d9-43a9-a0f3-92d2881461d1",
   "metadata": {},
   "outputs": [
    {
     "data": {
      "text/html": [
       "<div>\n",
       "<style scoped>\n",
       "    .dataframe tbody tr th:only-of-type {\n",
       "        vertical-align: middle;\n",
       "    }\n",
       "\n",
       "    .dataframe tbody tr th {\n",
       "        vertical-align: top;\n",
       "    }\n",
       "\n",
       "    .dataframe thead th {\n",
       "        text-align: right;\n",
       "    }\n",
       "</style>\n",
       "<table border=\"1\" class=\"dataframe\">\n",
       "  <thead>\n",
       "    <tr style=\"text-align: right;\">\n",
       "      <th></th>\n",
       "      <th>go</th>\n",
       "      <th>go_boost</th>\n",
       "      <th>agree</th>\n",
       "      <th>season</th>\n",
       "      <th>team</th>\n",
       "    </tr>\n",
       "    <tr>\n",
       "      <th>team_season</th>\n",
       "      <th></th>\n",
       "      <th></th>\n",
       "      <th></th>\n",
       "      <th></th>\n",
       "      <th></th>\n",
       "    </tr>\n",
       "  </thead>\n",
       "  <tbody>\n",
       "    <tr>\n",
       "      <th>ATL__2022</th>\n",
       "      <td>17.741935</td>\n",
       "      <td>-1.495742</td>\n",
       "      <td>0.903226</td>\n",
       "      <td>2022</td>\n",
       "      <td>ATL</td>\n",
       "    </tr>\n",
       "    <tr>\n",
       "      <th>PHI__2023</th>\n",
       "      <td>22.222222</td>\n",
       "      <td>-1.490412</td>\n",
       "      <td>0.904762</td>\n",
       "      <td>2023</td>\n",
       "      <td>PHI</td>\n",
       "    </tr>\n",
       "    <tr>\n",
       "      <th>TEN__2022</th>\n",
       "      <td>12.000000</td>\n",
       "      <td>-2.317837</td>\n",
       "      <td>0.906667</td>\n",
       "      <td>2022</td>\n",
       "      <td>TEN</td>\n",
       "    </tr>\n",
       "    <tr>\n",
       "      <th>CAR__2023</th>\n",
       "      <td>23.170732</td>\n",
       "      <td>-1.140058</td>\n",
       "      <td>0.914634</td>\n",
       "      <td>2023</td>\n",
       "      <td>CAR</td>\n",
       "    </tr>\n",
       "    <tr>\n",
       "      <th>SF__2023</th>\n",
       "      <td>7.500000</td>\n",
       "      <td>-1.584971</td>\n",
       "      <td>0.950000</td>\n",
       "      <td>2023</td>\n",
       "      <td>SF</td>\n",
       "    </tr>\n",
       "  </tbody>\n",
       "</table>\n",
       "</div>"
      ],
      "text/plain": [
       "                    go  go_boost     agree  season team\n",
       "team_season                                            \n",
       "ATL__2022    17.741935 -1.495742  0.903226    2022  ATL\n",
       "PHI__2023    22.222222 -1.490412  0.904762    2023  PHI\n",
       "TEN__2022    12.000000 -2.317837  0.906667    2022  TEN\n",
       "CAR__2023    23.170732 -1.140058  0.914634    2023  CAR\n",
       "SF__2023      7.500000 -1.584971  0.950000    2023   SF"
      ]
     },
     "execution_count": 50,
     "metadata": {},
     "output_type": "execute_result"
    }
   ],
   "source": [
    "## subset onto data where there is a recommendation go or kick (i.e. should go does not equal 0)\n",
    "adf = rdf[rdf['should_go'] != 0]\n",
    "mdf = utils.mean_df(adf)\n",
    "mdf.sort_values('agree').tail(5)"
   ]
  },
  {
   "cell_type": "code",
   "execution_count": 51,
   "id": "fd524ec7-7650-4a0a-8f69-9a2feefec309",
   "metadata": {},
   "outputs": [],
   "source": [
    "omdf = mdf[mdf['team']!='TEN'] ## all non Titans teams\n",
    "tmdf = mdf[mdf['team']=='TEN'] ## all Titans teams"
   ]
  },
  {
   "cell_type": "code",
   "execution_count": 52,
   "id": "15879262-5f52-48d8-a2e9-4583f1179d47",
   "metadata": {},
   "outputs": [
    {
     "data": {
      "image/png": "[encoded data removed]",
      "text/plain": [
       "<Figure size 600x300 with 1 Axes>"
      ]
     },
     "metadata": {},
     "output_type": "display_data"
    }
   ],
   "source": [
    "fig, ax = plt.subplots(figsize=(6, 3))\n",
    "sns.swarmplot(data=omdf, x='season', y='agree', color='black', ax=ax)\n",
    "sns.swarmplot(data=tmdf, x='season', y='agree', color='dodgerblue', ax=ax,\n",
    "             size=8, linewidth=0.8, edgecolor='black')\n",
    "\n",
    "# plot the mean line\n",
    "sns.boxplot(showmeans=True,\n",
    "            meanline=True,\n",
    "            meanprops={'color': 'tab:green', 'ls': '-', 'lw': 2.5},\n",
    "            medianprops={'visible': False},\n",
    "            whiskerprops={'visible': False},\n",
    "            zorder=10,\n",
    "            x=\"season\",\n",
    "            y=\"agree\",\n",
    "            data=mdf,\n",
    "            showfliers=False,\n",
    "            showbox=False,\n",
    "            showcaps=False,\n",
    "            ax=ax)\n",
    "\n",
    "ax.set_ylabel('Percent Model Agreement')\n",
    "ax.set_xlabel('Season')\n",
    "ax.set_title('Model Agreement Across Seasons')\n",
    "ax.yaxis.set_major_formatter(FuncFormatter(lambda y, _: '{:.0%}'.format(y))) \n",
    "# ax.yaxis.set_major_formatter(mtick.PercentFormatter(xmax=1))\n"
   ]
  },
  {
   "cell_type": "markdown",
   "id": "41b15b06-2c85-4b8b-b04d-133362b7f4af",
   "metadata": {},
   "source": [
    "### Team agreement (go decisions)"
   ]
  },
  {
   "cell_type": "code",
   "execution_count": 53,
   "id": "56549152-35bd-49dd-bb7d-ee5c43d14a76",
   "metadata": {},
   "outputs": [
    {
     "data": {
      "text/html": [
       "<div>\n",
       "<style scoped>\n",
       "    .dataframe tbody tr th:only-of-type {\n",
       "        vertical-align: middle;\n",
       "    }\n",
       "\n",
       "    .dataframe tbody tr th {\n",
       "        vertical-align: top;\n",
       "    }\n",
       "\n",
       "    .dataframe thead th {\n",
       "        text-align: right;\n",
       "    }\n",
       "</style>\n",
       "<table border=\"1\" class=\"dataframe\">\n",
       "  <thead>\n",
       "    <tr style=\"text-align: right;\">\n",
       "      <th></th>\n",
       "      <th>go</th>\n",
       "      <th>go_boost</th>\n",
       "      <th>agree</th>\n",
       "      <th>season</th>\n",
       "      <th>team</th>\n",
       "    </tr>\n",
       "    <tr>\n",
       "      <th>team_season</th>\n",
       "      <th></th>\n",
       "      <th></th>\n",
       "      <th></th>\n",
       "      <th></th>\n",
       "      <th></th>\n",
       "    </tr>\n",
       "  </thead>\n",
       "  <tbody>\n",
       "    <tr>\n",
       "      <th>ARI__2023</th>\n",
       "      <td>70.833333</td>\n",
       "      <td>3.204083</td>\n",
       "      <td>0.708333</td>\n",
       "      <td>2023</td>\n",
       "      <td>ARI</td>\n",
       "    </tr>\n",
       "    <tr>\n",
       "      <th>PHI__2023</th>\n",
       "      <td>72.222222</td>\n",
       "      <td>2.935638</td>\n",
       "      <td>0.722222</td>\n",
       "      <td>2023</td>\n",
       "      <td>PHI</td>\n",
       "    </tr>\n",
       "    <tr>\n",
       "      <th>GB__2022</th>\n",
       "      <td>72.413793</td>\n",
       "      <td>4.601862</td>\n",
       "      <td>0.724138</td>\n",
       "      <td>2022</td>\n",
       "      <td>GB</td>\n",
       "    </tr>\n",
       "    <tr>\n",
       "      <th>CAR__2023</th>\n",
       "      <td>73.076923</td>\n",
       "      <td>3.593550</td>\n",
       "      <td>0.730769</td>\n",
       "      <td>2023</td>\n",
       "      <td>CAR</td>\n",
       "    </tr>\n",
       "    <tr>\n",
       "      <th>GB__2020</th>\n",
       "      <td>75.000000</td>\n",
       "      <td>4.573572</td>\n",
       "      <td>0.750000</td>\n",
       "      <td>2020</td>\n",
       "      <td>GB</td>\n",
       "    </tr>\n",
       "  </tbody>\n",
       "</table>\n",
       "</div>"
      ],
      "text/plain": [
       "                    go  go_boost     agree  season team\n",
       "team_season                                            \n",
       "ARI__2023    70.833333  3.204083  0.708333    2023  ARI\n",
       "PHI__2023    72.222222  2.935638  0.722222    2023  PHI\n",
       "GB__2022     72.413793  4.601862  0.724138    2022   GB\n",
       "CAR__2023    73.076923  3.593550  0.730769    2023  CAR\n",
       "GB__2020     75.000000  4.573572  0.750000    2020   GB"
      ]
     },
     "execution_count": 53,
     "metadata": {},
     "output_type": "execute_result"
    }
   ],
   "source": [
    "## subset onto data where there is a recommendation go or kick\n",
    "adf = rdf[rdf['should_go'].isin([1,2])]\n",
    "mdf = utils.mean_df(adf)\n",
    "mdf.sort_values('agree').tail(5)"
   ]
  },
  {
   "cell_type": "code",
   "execution_count": 54,
   "id": "70789749-7047-40b7-91b2-accc639c9ef5",
   "metadata": {},
   "outputs": [],
   "source": [
    "omdf = mdf[mdf['team']!='TEN']\n",
    "tmdf = mdf[mdf['team']=='TEN']"
   ]
  },
  {
   "cell_type": "code",
   "execution_count": 55,
   "id": "b786bbb8-fe20-454f-8728-1335ba67b809",
   "metadata": {},
   "outputs": [
    {
     "data": {
      "image/png": "[encoded data removed]",
      "text/plain": [
       "<Figure size 600x300 with 1 Axes>"
      ]
     },
     "metadata": {},
     "output_type": "display_data"
    }
   ],
   "source": [
    "fig, ax = plt.subplots(figsize=(6, 3))\n",
    "sns.swarmplot(data=omdf, x='season', y='agree', color='black', ax=ax)\n",
    "sns.swarmplot(data=tmdf, x='season', y='agree', color='dodgerblue', ax=ax,\n",
    "             size=8, linewidth=0.8, edgecolor='black')\n",
    "\n",
    "# plot the mean line\n",
    "sns.boxplot(showmeans=True,\n",
    "            meanline=True,\n",
    "            meanprops={'color': 'tab:green', 'ls': '-', 'lw': 2.5},\n",
    "            medianprops={'visible': False},\n",
    "            whiskerprops={'visible': False},\n",
    "            zorder=10,\n",
    "            x=\"season\",\n",
    "            y=\"agree\",\n",
    "            data=mdf,\n",
    "            showfliers=False,\n",
    "            showbox=False,\n",
    "            showcaps=False,\n",
    "            ax=ax)\n",
    "\n",
    "ax.set_ylabel('Percent Model Agreement')\n",
    "ax.set_xlabel('Season')\n",
    "ax.set_title('Model Agreement on Go Decisions Across Seasons')\n",
    "ax.yaxis.set_major_formatter(FuncFormatter(lambda y, _: '{:.0%}'.format(y))) \n",
    "# ax.yaxis.set_major_formatter(mtick.PercentFormatter(xmax=1))\n"
   ]
  },
  {
   "cell_type": "markdown",
   "id": "8ee10f17-6806-47e9-a83c-4ea1599e9b61",
   "metadata": {},
   "source": [
    "### Aggressiveness in neutral decisions"
   ]
  },
  {
   "cell_type": "code",
   "execution_count": 58,
   "id": "b5c8403b-e640-48ea-bb2e-325bd80227ca",
   "metadata": {},
   "outputs": [
    {
     "data": {
      "text/html": [
       "<div>\n",
       "<style scoped>\n",
       "    .dataframe tbody tr th:only-of-type {\n",
       "        vertical-align: middle;\n",
       "    }\n",
       "\n",
       "    .dataframe tbody tr th {\n",
       "        vertical-align: top;\n",
       "    }\n",
       "\n",
       "    .dataframe thead th {\n",
       "        text-align: right;\n",
       "    }\n",
       "</style>\n",
       "<table border=\"1\" class=\"dataframe\">\n",
       "  <thead>\n",
       "    <tr style=\"text-align: right;\">\n",
       "      <th></th>\n",
       "      <th>go</th>\n",
       "      <th>go_boost</th>\n",
       "      <th>agree</th>\n",
       "      <th>season</th>\n",
       "      <th>team</th>\n",
       "    </tr>\n",
       "    <tr>\n",
       "      <th>team_season</th>\n",
       "      <th></th>\n",
       "      <th></th>\n",
       "      <th></th>\n",
       "      <th></th>\n",
       "      <th></th>\n",
       "    </tr>\n",
       "  </thead>\n",
       "  <tbody>\n",
       "    <tr>\n",
       "      <th>CAR__2021</th>\n",
       "      <td>35.135135</td>\n",
       "      <td>-0.002198</td>\n",
       "      <td>0.0</td>\n",
       "      <td>2021</td>\n",
       "      <td>CAR</td>\n",
       "    </tr>\n",
       "    <tr>\n",
       "      <th>GB__2017</th>\n",
       "      <td>35.294118</td>\n",
       "      <td>-0.132182</td>\n",
       "      <td>0.0</td>\n",
       "      <td>2017</td>\n",
       "      <td>GB</td>\n",
       "    </tr>\n",
       "    <tr>\n",
       "      <th>CLE__2022</th>\n",
       "      <td>35.714286</td>\n",
       "      <td>-0.079478</td>\n",
       "      <td>0.0</td>\n",
       "      <td>2022</td>\n",
       "      <td>CLE</td>\n",
       "    </tr>\n",
       "    <tr>\n",
       "      <th>DET__2023</th>\n",
       "      <td>36.363636</td>\n",
       "      <td>-0.055849</td>\n",
       "      <td>0.0</td>\n",
       "      <td>2023</td>\n",
       "      <td>DET</td>\n",
       "    </tr>\n",
       "    <tr>\n",
       "      <th>CAR__2023</th>\n",
       "      <td>38.666667</td>\n",
       "      <td>0.038125</td>\n",
       "      <td>0.0</td>\n",
       "      <td>2023</td>\n",
       "      <td>CAR</td>\n",
       "    </tr>\n",
       "  </tbody>\n",
       "</table>\n",
       "</div>"
      ],
      "text/plain": [
       "                    go  go_boost  agree  season team\n",
       "team_season                                         \n",
       "CAR__2021    35.135135 -0.002198    0.0    2021  CAR\n",
       "GB__2017     35.294118 -0.132182    0.0    2017   GB\n",
       "CLE__2022    35.714286 -0.079478    0.0    2022  CLE\n",
       "DET__2023    36.363636 -0.055849    0.0    2023  DET\n",
       "CAR__2023    38.666667  0.038125    0.0    2023  CAR"
      ]
     },
     "execution_count": 58,
     "metadata": {},
     "output_type": "execute_result"
    }
   ],
   "source": [
    "## subset onto data where there is a recommendation go or kick\n",
    "adf = rdf[rdf['should_go'].isin([0])]\n",
    "mdf = utils.mean_df(adf)\n",
    "mdf.sort_values('go').tail(5)"
   ]
  },
  {
   "cell_type": "code",
   "execution_count": 59,
   "id": "7c4c7589-0cfc-4b1f-81f0-c087c1fd7821",
   "metadata": {},
   "outputs": [],
   "source": [
    "mmdf = mdf.sort_values('go', ascending=False).reset_index().head(5)\n",
    "mmdf['Go Percent'] = round(mmdf['go'],2).astype('str') + '%'\n",
    "mmdf['Go'] = mmdf['go']/100"
   ]
  },
  {
   "cell_type": "code",
   "execution_count": 194,
   "id": "7eeab07b-9d9e-440a-88a0-8a5f13732480",
   "metadata": {},
   "outputs": [
    {
     "data": {
      "text/plain": [
       "Text(0.5, 1.0, 'Top 5 Teams by Go Percentage in Neutral Situations')"
      ]
     },
     "execution_count": 194,
     "metadata": {},
     "output_type": "execute_result"
    },
    {
     "data": {
      "image/png": "[encoded data removed]",
      "text/plain": [
       "<Figure size 500x200 with 1 Axes>"
      ]
     },
     "metadata": {},
     "output_type": "display_data"
    }
   ],
   "source": [
    "fig, ax = plt.subplots(figsize=(5,2))\n",
    "sns.barplot(data=mmdf, x='team_season', y='Go',ax=ax)\n",
    "ax.set_ylim(0,0.5)\n",
    "ax.set_xticklabels(ax.get_xticklabels(), fontsize=8)\n",
    "ax.yaxis.set_major_formatter(FuncFormatter(lambda y, _: '{:.0%}'.format(y))) \n",
    "\n",
    "for index, row in mmdf.iterrows():\n",
    "    plt.text(index, row['Go'] + 0.02, str(round(100*row['Go'],1)) + '%', color='black', ha='center')\n",
    "    \n",
    "ax.set_ylabel('Go Percentage', fontsize=9)\n",
    "ax.set_xlabel('Team/Season', fontsize=8)\n",
    "ax.set_title('Top 5 Teams by Go Percentage in Neutral Situations', fontsize=10)\n"
   ]
  },
  {
   "cell_type": "code",
   "execution_count": null,
   "id": "84c58d5d-6b8c-4178-9be4-7f1ee57305c2",
   "metadata": {},
   "outputs": [],
   "source": []
  },
  {
   "cell_type": "code",
   "execution_count": null,
   "id": "c87abee6-026b-4b2a-9071-b75c2503e050",
   "metadata": {},
   "outputs": [],
   "source": []
  },
  {
   "cell_type": "markdown",
   "id": "9dc3d4fa-3aff-4dc7-bc44-0e038431306a",
   "metadata": {},
   "source": [
    "### Titans fourth down to analyze"
   ]
  },
  {
   "cell_type": "code",
   "execution_count": 94,
   "id": "ca823030-cb60-476e-be7e-c51c4bda5c26",
   "metadata": {},
   "outputs": [],
   "source": [
    "ctdf = cdf[cdf['posteam']=='TEN']"
   ]
  },
  {
   "cell_type": "code",
   "execution_count": 95,
   "id": "9b08106b-2431-439e-9d79-5262a4b5f3ee",
   "metadata": {},
   "outputs": [],
   "source": [
    "bplays =ctdf[ctdf['agree']==0].sort_values('go_boost', ascending=False)"
   ]
  },
  {
   "cell_type": "markdown",
   "id": "b7569482-c947-485d-96e3-3018d1d57d97",
   "metadata": {},
   "source": [
    "### Colts 2021 fourth down"
   ]
  },
  {
   "cell_type": "code",
   "execution_count": 116,
   "id": "2d52f78a-6fc3-48a8-a252-4dfeba39b248",
   "metadata": {},
   "outputs": [],
   "source": [
    "play = bplays.head(1)"
   ]
  },
  {
   "cell_type": "code",
   "execution_count": 117,
   "id": "13d3f384-efb9-4d2b-b738-c64040c0b32f",
   "metadata": {},
   "outputs": [
    {
     "data": {
      "text/html": [
       "<div>\n",
       "<style scoped>\n",
       "    .dataframe tbody tr th:only-of-type {\n",
       "        vertical-align: middle;\n",
       "    }\n",
       "\n",
       "    .dataframe tbody tr th {\n",
       "        vertical-align: top;\n",
       "    }\n",
       "\n",
       "    .dataframe thead th {\n",
       "        text-align: right;\n",
       "    }\n",
       "</style>\n",
       "<table border=\"1\" class=\"dataframe\">\n",
       "  <thead>\n",
       "    <tr style=\"text-align: right;\">\n",
       "      <th></th>\n",
       "      <th>play_id</th>\n",
       "      <th>game_id</th>\n",
       "      <th>old_game_id</th>\n",
       "      <th>home_team</th>\n",
       "      <th>away_team</th>\n",
       "      <th>season_type</th>\n",
       "      <th>week</th>\n",
       "      <th>posteam</th>\n",
       "      <th>posteam_type</th>\n",
       "      <th>defteam</th>\n",
       "      <th>...</th>\n",
       "      <th>go_wp</th>\n",
       "      <th>punt_wp</th>\n",
       "      <th>fg_wp</th>\n",
       "      <th>go</th>\n",
       "      <th>team_season</th>\n",
       "      <th>should_go</th>\n",
       "      <th>go_group</th>\n",
       "      <th>go_numcat</th>\n",
       "      <th>go_cat</th>\n",
       "      <th>agree</th>\n",
       "    </tr>\n",
       "  </thead>\n",
       "  <tbody>\n",
       "    <tr>\n",
       "      <th>30235</th>\n",
       "      <td>3975</td>\n",
       "      <td>2021_08_TEN_IND</td>\n",
       "      <td>2021103106</td>\n",
       "      <td>IND</td>\n",
       "      <td>TEN</td>\n",
       "      <td>REG</td>\n",
       "      <td>8</td>\n",
       "      <td>TEN</td>\n",
       "      <td>away</td>\n",
       "      <td>IND</td>\n",
       "      <td>...</td>\n",
       "      <td>0.475358</td>\n",
       "      <td>0.359493</td>\n",
       "      <td>0.244801</td>\n",
       "      <td>0.0</td>\n",
       "      <td>TEN__2021</td>\n",
       "      <td>1</td>\n",
       "      <td>definitely_go</td>\n",
       "      <td>12</td>\n",
       "      <td>-1</td>\n",
       "      <td>False</td>\n",
       "    </tr>\n",
       "  </tbody>\n",
       "</table>\n",
       "<p>1 rows × 383 columns</p>\n",
       "</div>"
      ],
      "text/plain": [
       "       play_id          game_id  old_game_id home_team away_team season_type  \\\n",
       "30235     3975  2021_08_TEN_IND   2021103106       IND       TEN         REG   \n",
       "\n",
       "       week posteam posteam_type defteam  ...     go_wp   punt_wp     fg_wp  \\\n",
       "30235     8     TEN         away     IND  ...  0.475358  0.359493  0.244801   \n",
       "\n",
       "        go  team_season  should_go       go_group  go_numcat  go_cat  agree  \n",
       "30235  0.0    TEN__2021          1  definitely_go         12      -1  False  \n",
       "\n",
       "[1 rows x 383 columns]"
      ]
     },
     "execution_count": 117,
     "metadata": {},
     "output_type": "execute_result"
    }
   ],
   "source": [
    "play"
   ]
  },
  {
   "cell_type": "code",
   "execution_count": 118,
   "id": "7b94e41f-012a-4dcf-9979-f3d8312ee81b",
   "metadata": {},
   "outputs": [
    {
     "data": {
      "text/plain": [
       "11.5864893612111"
      ]
     },
     "execution_count": 118,
     "metadata": {},
     "output_type": "execute_result"
    }
   ],
   "source": [
    "play['go_boost'].values[0]"
   ]
  },
  {
   "cell_type": "code",
   "execution_count": 119,
   "id": "7c0314bd-f7f7-415e-b85d-12266d4272c2",
   "metadata": {},
   "outputs": [
    {
     "data": {
      "text/plain": [
       "'2021 (week 8): TEN (24) at IND (24). 01:39 left in 4th Quarter. 4th down and 6 at IND 45. WP: 0.51 -> 0.45'"
      ]
     },
     "execution_count": 119,
     "metadata": {},
     "output_type": "execute_result"
    }
   ],
   "source": [
    "utils.play_summary(play)"
   ]
  },
  {
   "cell_type": "code",
   "execution_count": 120,
   "id": "71226f32-045c-4891-8131-2fe174334a99",
   "metadata": {},
   "outputs": [
    {
     "data": {
      "text/plain": [
       "array(['(1:39) 6-B.Kern punts 37 yards to IND 8, Center-46-M.Cox, fair catch by 21-N.Hines.'],\n",
       "      dtype=object)"
      ]
     },
     "execution_count": 120,
     "metadata": {},
     "output_type": "execute_result"
    }
   ],
   "source": [
    "play['desc'].values"
   ]
  },
  {
   "cell_type": "markdown",
   "id": "dfe3e8bd-5c39-4a16-b1d5-75b64f96b496",
   "metadata": {},
   "source": [
    "### Ravens Playoff"
   ]
  },
  {
   "cell_type": "code",
   "execution_count": 121,
   "id": "6f98e398-6af0-4b92-bf00-e934408abb34",
   "metadata": {},
   "outputs": [],
   "source": [
    "play = bplays.head(2).tail(1)"
   ]
  },
  {
   "cell_type": "code",
   "execution_count": 122,
   "id": "8ce18d1c-7456-4750-a8d0-7de977071dc7",
   "metadata": {},
   "outputs": [
    {
     "data": {
      "text/plain": [
       "7.9949071287832"
      ]
     },
     "execution_count": 122,
     "metadata": {},
     "output_type": "execute_result"
    }
   ],
   "source": [
    "play['go_boost'].values[0]"
   ]
  },
  {
   "cell_type": "code",
   "execution_count": 123,
   "id": "399f9d9d-d066-439d-a4f6-a8f2cde0df90",
   "metadata": {},
   "outputs": [
    {
     "data": {
      "text/plain": [
       "'2020 (week 18): BAL (17) at TEN (13). 10:06 left in 4th Quarter. 4th down and 2 at BAL 40. WP: 0.35 -> 0.31'"
      ]
     },
     "execution_count": 123,
     "metadata": {},
     "output_type": "execute_result"
    }
   ],
   "source": [
    "utils.play_summary(play)"
   ]
  },
  {
   "cell_type": "code",
   "execution_count": 124,
   "id": "9868e71e-4c61-497d-9b27-75d2e7676477",
   "metadata": {},
   "outputs": [
    {
     "data": {
      "text/plain": [
       "array(['(10:06) 6-B.Kern punts 25 yards to BAL 15, Center-47-M.Overton, fair catch by 13-D.Duvernay.'],\n",
       "      dtype=object)"
      ]
     },
     "execution_count": 124,
     "metadata": {},
     "output_type": "execute_result"
    }
   ],
   "source": [
    "play['desc'].values"
   ]
  },
  {
   "cell_type": "code",
   "execution_count": null,
   "id": "103ab8c6-98c6-4ee3-9549-c152a27247da",
   "metadata": {},
   "outputs": [],
   "source": []
  },
  {
   "cell_type": "markdown",
   "id": "a8ea8d13-e74f-4f2d-80de-5a3222ff0313",
   "metadata": {},
   "source": [
    "### Worst postseason decisions per model"
   ]
  },
  {
   "cell_type": "code",
   "execution_count": 139,
   "id": "35af7dd6-8ba5-4a8a-acb6-7967536bc787",
   "metadata": {},
   "outputs": [],
   "source": [
    "ppp = cdf[(cdf['go']==0) & (cdf['season_type']=='POST')].sort_values('go_boost', ascending=False)"
   ]
  },
  {
   "cell_type": "code",
   "execution_count": 140,
   "id": "17a4f49a-1e03-467c-a89f-88cca2f5f12d",
   "metadata": {},
   "outputs": [
    {
     "data": {
      "text/html": [
       "<div>\n",
       "<style scoped>\n",
       "    .dataframe tbody tr th:only-of-type {\n",
       "        vertical-align: middle;\n",
       "    }\n",
       "\n",
       "    .dataframe tbody tr th {\n",
       "        vertical-align: top;\n",
       "    }\n",
       "\n",
       "    .dataframe thead th {\n",
       "        text-align: right;\n",
       "    }\n",
       "</style>\n",
       "<table border=\"1\" class=\"dataframe\">\n",
       "  <thead>\n",
       "    <tr style=\"text-align: right;\">\n",
       "      <th></th>\n",
       "      <th>play_id</th>\n",
       "      <th>game_id</th>\n",
       "      <th>old_game_id</th>\n",
       "      <th>home_team</th>\n",
       "      <th>away_team</th>\n",
       "      <th>season_type</th>\n",
       "      <th>week</th>\n",
       "      <th>posteam</th>\n",
       "      <th>posteam_type</th>\n",
       "      <th>defteam</th>\n",
       "      <th>...</th>\n",
       "      <th>go_wp</th>\n",
       "      <th>punt_wp</th>\n",
       "      <th>fg_wp</th>\n",
       "      <th>go</th>\n",
       "      <th>team_season</th>\n",
       "      <th>should_go</th>\n",
       "      <th>go_group</th>\n",
       "      <th>go_numcat</th>\n",
       "      <th>go_cat</th>\n",
       "      <th>agree</th>\n",
       "    </tr>\n",
       "  </thead>\n",
       "  <tbody>\n",
       "    <tr>\n",
       "      <th>28301</th>\n",
       "      <td>2846</td>\n",
       "      <td>2020_18_BAL_TEN</td>\n",
       "      <td>2021011000</td>\n",
       "      <td>TEN</td>\n",
       "      <td>BAL</td>\n",
       "      <td>POST</td>\n",
       "      <td>18</td>\n",
       "      <td>TEN</td>\n",
       "      <td>home</td>\n",
       "      <td>BAL</td>\n",
       "      <td>...</td>\n",
       "      <td>0.304604</td>\n",
       "      <td>0.224655</td>\n",
       "      <td>0.218981</td>\n",
       "      <td>0.0</td>\n",
       "      <td>TEN__2020</td>\n",
       "      <td>1</td>\n",
       "      <td>definitely_go</td>\n",
       "      <td>8</td>\n",
       "      <td>-1</td>\n",
       "      <td>False</td>\n",
       "    </tr>\n",
       "    <tr>\n",
       "      <th>32639</th>\n",
       "      <td>2459</td>\n",
       "      <td>2021_20_BUF_KC</td>\n",
       "      <td>2022012301</td>\n",
       "      <td>KC</td>\n",
       "      <td>BUF</td>\n",
       "      <td>POST</td>\n",
       "      <td>20</td>\n",
       "      <td>BUF</td>\n",
       "      <td>away</td>\n",
       "      <td>KC</td>\n",
       "      <td>...</td>\n",
       "      <td>0.360671</td>\n",
       "      <td>0.302868</td>\n",
       "      <td>0.212836</td>\n",
       "      <td>0.0</td>\n",
       "      <td>BUF__2021</td>\n",
       "      <td>1</td>\n",
       "      <td>definitely_go</td>\n",
       "      <td>6</td>\n",
       "      <td>-1</td>\n",
       "      <td>False</td>\n",
       "    </tr>\n",
       "    <tr>\n",
       "      <th>4112</th>\n",
       "      <td>2341</td>\n",
       "      <td>2014_21_NE_SEA</td>\n",
       "      <td>2015020100</td>\n",
       "      <td>SEA</td>\n",
       "      <td>NE</td>\n",
       "      <td>POST</td>\n",
       "      <td>21</td>\n",
       "      <td>SEA</td>\n",
       "      <td>home</td>\n",
       "      <td>NE</td>\n",
       "      <td>...</td>\n",
       "      <td>0.569501</td>\n",
       "      <td>NaN</td>\n",
       "      <td>0.512483</td>\n",
       "      <td>0.0</td>\n",
       "      <td>SEA__2014</td>\n",
       "      <td>1</td>\n",
       "      <td>definitely_go</td>\n",
       "      <td>6</td>\n",
       "      <td>-1</td>\n",
       "      <td>False</td>\n",
       "    </tr>\n",
       "    <tr>\n",
       "      <th>4072</th>\n",
       "      <td>3332</td>\n",
       "      <td>2014_19_IND_DEN</td>\n",
       "      <td>2015011101</td>\n",
       "      <td>DEN</td>\n",
       "      <td>IND</td>\n",
       "      <td>POST</td>\n",
       "      <td>19</td>\n",
       "      <td>DEN</td>\n",
       "      <td>home</td>\n",
       "      <td>IND</td>\n",
       "      <td>...</td>\n",
       "      <td>0.269434</td>\n",
       "      <td>NaN</td>\n",
       "      <td>0.212693</td>\n",
       "      <td>0.0</td>\n",
       "      <td>DEN__2014</td>\n",
       "      <td>1</td>\n",
       "      <td>definitely_go</td>\n",
       "      <td>6</td>\n",
       "      <td>-1</td>\n",
       "      <td>False</td>\n",
       "    </tr>\n",
       "    <tr>\n",
       "      <th>24552</th>\n",
       "      <td>3016</td>\n",
       "      <td>2019_18_TEN_NE</td>\n",
       "      <td>2020010401</td>\n",
       "      <td>NE</td>\n",
       "      <td>TEN</td>\n",
       "      <td>POST</td>\n",
       "      <td>18</td>\n",
       "      <td>NE</td>\n",
       "      <td>home</td>\n",
       "      <td>TEN</td>\n",
       "      <td>...</td>\n",
       "      <td>0.514264</td>\n",
       "      <td>0.459809</td>\n",
       "      <td>0.365523</td>\n",
       "      <td>0.0</td>\n",
       "      <td>NE__2019</td>\n",
       "      <td>1</td>\n",
       "      <td>definitely_go</td>\n",
       "      <td>6</td>\n",
       "      <td>-1</td>\n",
       "      <td>False</td>\n",
       "    </tr>\n",
       "  </tbody>\n",
       "</table>\n",
       "<p>5 rows × 383 columns</p>\n",
       "</div>"
      ],
      "text/plain": [
       "       play_id          game_id  old_game_id home_team away_team season_type  \\\n",
       "28301     2846  2020_18_BAL_TEN   2021011000       TEN       BAL        POST   \n",
       "32639     2459   2021_20_BUF_KC   2022012301        KC       BUF        POST   \n",
       "4112      2341   2014_21_NE_SEA   2015020100       SEA        NE        POST   \n",
       "4072      3332  2014_19_IND_DEN   2015011101       DEN       IND        POST   \n",
       "24552     3016   2019_18_TEN_NE   2020010401        NE       TEN        POST   \n",
       "\n",
       "       week posteam posteam_type defteam  ...     go_wp   punt_wp     fg_wp  \\\n",
       "28301    18     TEN         home     BAL  ...  0.304604  0.224655  0.218981   \n",
       "32639    20     BUF         away      KC  ...  0.360671  0.302868  0.212836   \n",
       "4112     21     SEA         home      NE  ...  0.569501       NaN  0.512483   \n",
       "4072     19     DEN         home     IND  ...  0.269434       NaN  0.212693   \n",
       "24552    18      NE         home     TEN  ...  0.514264  0.459809  0.365523   \n",
       "\n",
       "        go  team_season  should_go       go_group  go_numcat  go_cat  agree  \n",
       "28301  0.0    TEN__2020          1  definitely_go          8      -1  False  \n",
       "32639  0.0    BUF__2021          1  definitely_go          6      -1  False  \n",
       "4112   0.0    SEA__2014          1  definitely_go          6      -1  False  \n",
       "4072   0.0    DEN__2014          1  definitely_go          6      -1  False  \n",
       "24552  0.0     NE__2019          1  definitely_go          6      -1  False  \n",
       "\n",
       "[5 rows x 383 columns]"
      ]
     },
     "execution_count": 140,
     "metadata": {},
     "output_type": "execute_result"
    }
   ],
   "source": [
    "ppp.head(5)"
   ]
  },
  {
   "cell_type": "code",
   "execution_count": null,
   "id": "1c0d5802-e69b-4e06-847e-c0284e29d982",
   "metadata": {},
   "outputs": [],
   "source": []
  }
 ],
 "metadata": {
  "kernelspec": {
   "display_name": "Python 3 (ipykernel)",
   "language": "python",
   "name": "python3"
  },
  "language_info": {
   "codemirror_mode": {
    "name": "ipython",
    "version": 3
   },
   "file_extension": ".py",
   "mimetype": "text/x-python",
   "name": "python",
   "nbconvert_exporter": "python",
   "pygments_lexer": "ipython3",
   "version": "3.10.0"
  }
 },
 "nbformat": 4,
 "nbformat_minor": 5
}
