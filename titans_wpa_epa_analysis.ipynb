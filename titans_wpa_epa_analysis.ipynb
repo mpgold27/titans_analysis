{
 "cells": [
  {
   "cell_type": "markdown",
   "id": "46d23a27-9f50-4990-aedf-89b39474596e",
   "metadata": {},
   "source": [
    "# Top EPA/WPA Plays\n",
    "\n",
    "Download Play Data with NFL Data Py (https://pypi.org/project/nfl-data-py/)\n",
    "\n",
    "Identify Best and Worst Titans Plays by WPA and EPA"
   ]
  },
  {
   "cell_type": "code",
   "execution_count": 26,
   "id": "80416ac3-4add-46d7-afe1-ae0665dc0a27",
   "metadata": {},
   "outputs": [],
   "source": [
    "from importlib import reload\n",
    "import numpy as np\n",
    "import nfl_data_py as nfl\n",
    "import os\n",
    "import pandas as pd\n",
    "import utils\n",
    "import warnings\n",
    "warnings.filterwarnings('ignore')"
   ]
  },
  {
   "cell_type": "markdown",
   "id": "daf0a4a5-8714-4a01-85d9-7e91e2af06d1",
   "metadata": {},
   "source": [
    "### Load data and process dataframes"
   ]
  },
  {
   "cell_type": "code",
   "execution_count": 7,
   "id": "b9f32b03-7c20-4a3a-85da-39d5b3329a5e",
   "metadata": {},
   "outputs": [
    {
     "name": "stdout",
     "output_type": "stream",
     "text": [
      "2018 done.\n",
      "2019 done.\n",
      "2020 done.\n",
      "2021 done.\n",
      "2022 done.\n",
      "2023 done.\n",
      "Downcasting floats.\n"
     ]
    }
   ],
   "source": [
    "# load play data from nfl play by play\n",
    "vrabel_years = range(2018, 2024)\n",
    "pdata = nfl.import_pbp_data(years=vrabel_years)"
   ]
  },
  {
   "cell_type": "code",
   "execution_count": 8,
   "id": "ed12a45e-d2aa-46a3-974e-8d08b1e56564",
   "metadata": {},
   "outputs": [],
   "source": [
    "# Titans dataframe where they are team possessing the ball\n",
    "tdf = pdata[pdata['posteam']=='TEN']\n",
    "# Subset Titans dataframe to exclude fourth quarter and overtime (stored as 5)\n",
    "etdf = tdf[~tdf['qtr'].isin([4, 5])]"
   ]
  },
  {
   "cell_type": "markdown",
   "id": "c2d2ae57-0b67-4f5c-8fa4-9e1af175130e",
   "metadata": {},
   "source": [
    "### Win Percentage Added (WPA)"
   ]
  },
  {
   "cell_type": "code",
   "execution_count": 9,
   "id": "8a8c7aa0-945a-46a1-a4d2-2b727249e334",
   "metadata": {},
   "outputs": [],
   "source": [
    "# sort Titans dataframe by WPA\n",
    "wtdf = tdf.sort_values('wpa', ascending=False)\n",
    "# sort early Titans dataframe by WPA\n",
    "wetdf = etdf.sort_values('wpa', ascending=False)"
   ]
  },
  {
   "cell_type": "markdown",
   "id": "7cd114b5-aa16-46d8-830f-9c644dd36d39",
   "metadata": {},
   "source": [
    "#### Henry screen in houston (2020)"
   ]
  },
  {
   "cell_type": "code",
   "execution_count": 30,
   "id": "463a4884-20f5-4bec-994f-7e87be954b09",
   "metadata": {},
   "outputs": [],
   "source": [
    "play = wtdf.iloc[[1]]"
   ]
  },
  {
   "cell_type": "code",
   "execution_count": 31,
   "id": "795d7a15-3279-4907-a138-f1a671186ef2",
   "metadata": {},
   "outputs": [
    {
     "data": {
      "text/plain": [
       "'2020 (week 6): HOU (36) at TEN (36). 09:19 left in OT. 2nd down and 8 at TEN 20. WP: 0.43 -> 0.86'"
      ]
     },
     "execution_count": 31,
     "metadata": {},
     "output_type": "execute_result"
    }
   ],
   "source": [
    "utils.play_summary(play, stat='wp', astat='wpa')"
   ]
  },
  {
   "cell_type": "markdown",
   "id": "638accef-e7b5-49d4-8ae4-d28ab40505f9",
   "metadata": {},
   "source": [
    "#### Henry Rush in KC (2019)"
   ]
  },
  {
   "cell_type": "code",
   "execution_count": 32,
   "id": "6849ebb2-5f14-4813-98f8-ccdbb6006072",
   "metadata": {},
   "outputs": [],
   "source": [
    "play = wetdf.iloc[[0]]"
   ]
  },
  {
   "cell_type": "code",
   "execution_count": 33,
   "id": "c567f7e7-a2a2-4703-ae8a-79cf2ee00ac0",
   "metadata": {},
   "outputs": [
    {
     "data": {
      "text/plain": [
       "'2019 (week 10): KC (19) at TEN (13). 06:10 left in 3rd Quarter. 2nd down and 4 at TEN 32. WP: 0.31 -> 0.55'"
      ]
     },
     "execution_count": 33,
     "metadata": {},
     "output_type": "execute_result"
    }
   ],
   "source": [
    "utils.play_summary(play, stat='wp', astat='wpa')"
   ]
  },
  {
   "cell_type": "markdown",
   "id": "ea4d79aa-f497-4efb-a03a-ead44c6804e6",
   "metadata": {},
   "source": [
    "#### Worst Plays by WPA"
   ]
  },
  {
   "cell_type": "code",
   "execution_count": 37,
   "id": "8bd2ef40-acc8-4681-98ca-9c093891a075",
   "metadata": {},
   "outputs": [
    {
     "name": "stdout",
     "output_type": "stream",
     "text": [
      "(:19) 14-R.Bullock 49 yard field goal is No Good, Wide Left, Center-46-M.Cox, Holder-8-J.Townsend.\n",
      "(:04) 14-R.Bullock 47 yard field goal is No Good, Wide Left, Center-46-M.Cox, Holder-4-R.Stonehouse.\n",
      "(3:01) (Shotgun) 11-J.Dobbs sacked at TEN 27 for -8 yards (2-R.Jenkins). FUMBLES (2-R.Jenkins) [2-R.Jenkins], RECOVERED by JAX-41-J.Allen at TEN 37. 41-J.Allen for 37 yards, TOUCHDOWN.\n",
      "(:11) (Shotgun) 8-W.Levis pass deep middle intended for 81-J.Whyle INTERCEPTED by 54-K.Alexander at PIT -1. Touchback.\n",
      "(:26) 4-R.Stonehouse punt is BLOCKED by 20-N.Cross, Center-46-M.Cox, RECOVERED by IND-41-G.Stuard at TEN 18. 41-G.Stuard for 18 yards, TOUCHDOWN.\n"
     ]
    }
   ],
   "source": [
    "for row in tdf.sort_values('wpa', ascending=True).head(5)['desc'].values.tolist():\n",
    "    print(row)"
   ]
  },
  {
   "cell_type": "code",
   "execution_count": null,
   "id": "6d2ea69c-89d9-46c5-b91f-1f05c6c3623b",
   "metadata": {},
   "outputs": [],
   "source": []
  },
  {
   "cell_type": "markdown",
   "id": "aab8cf85-ae95-4303-a57f-b85454b6da64",
   "metadata": {},
   "source": [
    "#### Stonehouse Blocked Punt (2023)"
   ]
  },
  {
   "cell_type": "code",
   "execution_count": 52,
   "id": "d3f7602d-6820-49db-b899-d84441d5f1fd",
   "metadata": {},
   "outputs": [],
   "source": [
    "play = etdf.sort_values('wpa', ascending=True).iloc[[0]]"
   ]
  },
  {
   "cell_type": "code",
   "execution_count": 53,
   "id": "0c9ccb20-5ac2-4df9-a01f-ed4772fda71a",
   "metadata": {},
   "outputs": [
    {
     "data": {
      "text/plain": [
       "'2023 (week 13): IND (16) at TEN (17). 00:26 left in 3rd Quarter. 4th down and 4 at TEN 36. WP: 0.59 -> 0.28'"
      ]
     },
     "execution_count": 53,
     "metadata": {},
     "output_type": "execute_result"
    }
   ],
   "source": [
    "utils.play_summary(play, stat='wp', astat='wpa')"
   ]
  },
  {
   "cell_type": "code",
   "execution_count": null,
   "id": "9bce5bf1-f567-4ef3-ab14-d1bc2bfcec5b",
   "metadata": {},
   "outputs": [],
   "source": []
  },
  {
   "cell_type": "markdown",
   "id": "1fc3125b-2d73-4faf-92e5-a3a779015d5e",
   "metadata": {},
   "source": [
    "## Expected Points Added"
   ]
  },
  {
   "cell_type": "code",
   "execution_count": 54,
   "id": "cd058f93-cec5-4b51-9179-88cab88539ff",
   "metadata": {},
   "outputs": [],
   "source": [
    "# sort titans dataframe by EPA\n",
    "extdf = tdf.sort_values('epa', ascending=False)"
   ]
  },
  {
   "cell_type": "markdown",
   "id": "5629d9c4-321e-4379-a64f-0b3bae16e6dc",
   "metadata": {},
   "source": [
    "#### Byard Fake Punt"
   ]
  },
  {
   "cell_type": "code",
   "execution_count": 56,
   "id": "6f861131-b125-4e66-ba60-058ee56f54db",
   "metadata": {},
   "outputs": [],
   "source": [
    "play = extdf.iloc[[0]]"
   ]
  },
  {
   "cell_type": "code",
   "execution_count": 57,
   "id": "0abac2fa-5b14-46b7-a8bb-aea0e429acfe",
   "metadata": {},
   "outputs": [
    {
     "data": {
      "text/plain": [
       "'2018 (week 2): HOU (0) at TEN (0). 10:00 left in 1st Quarter. 4th down and 6 at TEN 34. EP: -0.65 -> 7.0'"
      ]
     },
     "execution_count": 57,
     "metadata": {},
     "output_type": "execute_result"
    }
   ],
   "source": [
    "utils.play_summary(play, stat='ep', astat='epa')"
   ]
  },
  {
   "cell_type": "markdown",
   "id": "504b651e-1e60-4049-b02c-f3262853c2d3",
   "metadata": {},
   "source": [
    "#### Henry TD"
   ]
  },
  {
   "cell_type": "code",
   "execution_count": 58,
   "id": "db150c52-0113-42ee-8cd1-2527b23f436e",
   "metadata": {},
   "outputs": [],
   "source": [
    "play = extdf.iloc[[1]]"
   ]
  },
  {
   "cell_type": "code",
   "execution_count": 59,
   "id": "42bf53be-aabb-469f-a396-775df4a4446a",
   "metadata": {},
   "outputs": [
    {
     "data": {
      "text/plain": [
       "'2018 (week 14): JAX (2) at TEN (7). 07:25 left in 2nd Quarter. 1st down and 10 at TEN 1. EP: -0.34 -> 7.0'"
      ]
     },
     "execution_count": 59,
     "metadata": {},
     "output_type": "execute_result"
    }
   ],
   "source": [
    "utils.play_summary(play, stat='ep', astat='epa')"
   ]
  },
  {
   "cell_type": "code",
   "execution_count": 60,
   "id": "e2bf6003-b5b0-4d62-9c36-c73cf5a577a5",
   "metadata": {},
   "outputs": [
    {
     "data": {
      "text/html": [
       "<div>\n",
       "<style scoped>\n",
       "    .dataframe tbody tr th:only-of-type {\n",
       "        vertical-align: middle;\n",
       "    }\n",
       "\n",
       "    .dataframe tbody tr th {\n",
       "        vertical-align: top;\n",
       "    }\n",
       "\n",
       "    .dataframe thead th {\n",
       "        text-align: right;\n",
       "    }\n",
       "</style>\n",
       "<table border=\"1\" class=\"dataframe\">\n",
       "  <thead>\n",
       "    <tr style=\"text-align: right;\">\n",
       "      <th></th>\n",
       "      <th>play_id</th>\n",
       "      <th>game_id</th>\n",
       "      <th>old_game_id</th>\n",
       "      <th>home_team</th>\n",
       "      <th>away_team</th>\n",
       "      <th>season_type</th>\n",
       "      <th>week</th>\n",
       "      <th>posteam</th>\n",
       "      <th>posteam_type</th>\n",
       "      <th>defteam</th>\n",
       "      <th>...</th>\n",
       "      <th>offense_players</th>\n",
       "      <th>defense_players</th>\n",
       "      <th>n_offense</th>\n",
       "      <th>n_defense</th>\n",
       "      <th>ngs_air_yards</th>\n",
       "      <th>time_to_throw</th>\n",
       "      <th>was_pressure</th>\n",
       "      <th>route</th>\n",
       "      <th>defense_man_zone_type</th>\n",
       "      <th>defense_coverage_type</th>\n",
       "    </tr>\n",
       "  </thead>\n",
       "  <tbody>\n",
       "    <tr>\n",
       "      <th>35309</th>\n",
       "      <td>1238.0</td>\n",
       "      <td>2018_14_JAX_TEN</td>\n",
       "      <td>2018120600</td>\n",
       "      <td>TEN</td>\n",
       "      <td>JAX</td>\n",
       "      <td>REG</td>\n",
       "      <td>14</td>\n",
       "      <td>TEN</td>\n",
       "      <td>home</td>\n",
       "      <td>JAX</td>\n",
       "      <td>...</td>\n",
       "      <td>00-0028042;00-0032043;00-0033057;00-0032764;00...</td>\n",
       "      <td>00-0032968;00-0026190;00-0030228;00-0029568;00...</td>\n",
       "      <td>11.0</td>\n",
       "      <td>11.0</td>\n",
       "      <td>NaN</td>\n",
       "      <td>NaN</td>\n",
       "      <td>NaN</td>\n",
       "      <td>None</td>\n",
       "      <td>None</td>\n",
       "      <td>None</td>\n",
       "    </tr>\n",
       "  </tbody>\n",
       "</table>\n",
       "<p>1 rows × 390 columns</p>\n",
       "</div>"
      ],
      "text/plain": [
       "       play_id          game_id old_game_id home_team away_team season_type  \\\n",
       "35309   1238.0  2018_14_JAX_TEN  2018120600       TEN       JAX         REG   \n",
       "\n",
       "       week posteam posteam_type defteam  ...  \\\n",
       "35309    14     TEN         home     JAX  ...   \n",
       "\n",
       "                                         offense_players  \\\n",
       "35309  00-0028042;00-0032043;00-0033057;00-0032764;00...   \n",
       "\n",
       "                                         defense_players n_offense  n_defense  \\\n",
       "35309  00-0032968;00-0026190;00-0030228;00-0029568;00...      11.0       11.0   \n",
       "\n",
       "       ngs_air_yards  time_to_throw was_pressure  route  \\\n",
       "35309            NaN            NaN          NaN   None   \n",
       "\n",
       "       defense_man_zone_type  defense_coverage_type  \n",
       "35309                   None                   None  \n",
       "\n",
       "[1 rows x 390 columns]"
      ]
     },
     "execution_count": 60,
     "metadata": {},
     "output_type": "execute_result"
    }
   ],
   "source": [
    "play"
   ]
  },
  {
   "cell_type": "code",
   "execution_count": 76,
   "id": "56b99e64-23b1-4c35-81a3-423837c2e8a6",
   "metadata": {},
   "outputs": [
    {
     "data": {
      "text/plain": [
       "26"
      ]
     },
     "execution_count": 76,
     "metadata": {},
     "output_type": "execute_result"
    }
   ],
   "source": [
    "## ranking among all plays\n",
    "spdata = pdata.sort_values('epa', ascending=False)\n",
    "spdata.index.tolist().index(play.index)"
   ]
  },
  {
   "cell_type": "code",
   "execution_count": 75,
   "id": "32d36f87-0a90-41e0-a347-6266b1dfa987",
   "metadata": {},
   "outputs": [
    {
     "data": {
      "text/plain": [
       "2"
      ]
     },
     "execution_count": 75,
     "metadata": {},
     "output_type": "execute_result"
    }
   ],
   "source": [
    "## ranking among running plays (not fourth down to get rid of fake punts)\n",
    "rspdata = spdata[(spdata['play_type']=='run') & (spdata['down']!=4)]\n",
    "rspdata.index.tolist().index(play.index)"
   ]
  },
  {
   "cell_type": "code",
   "execution_count": null,
   "id": "0abda760-489f-4040-94c5-8121e76c0cfa",
   "metadata": {},
   "outputs": [],
   "source": []
  },
  {
   "cell_type": "markdown",
   "id": "aa711a4b-5855-4f92-816f-772061bb818f",
   "metadata": {},
   "source": [
    "#### Tannehil Pick"
   ]
  },
  {
   "cell_type": "code",
   "execution_count": 79,
   "id": "b7282d30-2bdd-44d3-88c1-31193b50b673",
   "metadata": {},
   "outputs": [],
   "source": [
    "## sort by EPA in reverse direction\n",
    "rextdf = extdf.sort_values('epa', ascending=True)"
   ]
  },
  {
   "cell_type": "code",
   "execution_count": 80,
   "id": "afea8a7c-8b34-48cd-a72b-d08109763966",
   "metadata": {},
   "outputs": [],
   "source": [
    "play = rextdf.iloc[[0]]"
   ]
  },
  {
   "cell_type": "code",
   "execution_count": 81,
   "id": "da6ee724-3947-4fa2-9471-837ccef58f11",
   "metadata": {},
   "outputs": [
    {
     "data": {
      "text/plain": [
       "'2019 (week 15): HOU (0) at TEN (0). 11:01 left in 2nd Quarter. 1st down and 5 at HOU 5. EP: 5.79 -> -4.93'"
      ]
     },
     "execution_count": 81,
     "metadata": {},
     "output_type": "execute_result"
    }
   ],
   "source": [
    "utils.play_summary(play, stat='ep', astat='epa')"
   ]
  },
  {
   "cell_type": "markdown",
   "id": "c7b5ca80-955b-4d6a-9a08-d6eee1f58022",
   "metadata": {},
   "source": [
    "#### Levis Fumble"
   ]
  },
  {
   "cell_type": "code",
   "execution_count": 82,
   "id": "787d24fb-434f-47ef-92f3-99718ffa9083",
   "metadata": {},
   "outputs": [],
   "source": [
    "## choose only 2023 season for reverse EPA df\n",
    "rextdf23 = rextdf[rextdf['season']==2023]"
   ]
  },
  {
   "cell_type": "code",
   "execution_count": 83,
   "id": "366766a9-2ece-4250-80ea-25e9b7591f1a",
   "metadata": {},
   "outputs": [],
   "source": [
    "play = rextdf23.iloc[[0]]"
   ]
  },
  {
   "cell_type": "code",
   "execution_count": 84,
   "id": "2a6c67bd-6bec-4db9-a4a6-f7192e297c4f",
   "metadata": {},
   "outputs": [
    {
     "data": {
      "text/plain": [
       "'2023 (week 17): TEN (0) at HOU (10). 10:10 left in 2nd Quarter. 1st down and 10 at TEN 25. EP: 1.13 -> -7.0'"
      ]
     },
     "execution_count": 84,
     "metadata": {},
     "output_type": "execute_result"
    }
   ],
   "source": [
    "utils.play_summary(play, stat='ep', astat='epa')"
   ]
  }
 ],
 "metadata": {
  "kernelspec": {
   "display_name": "Python 3 (ipykernel)",
   "language": "python",
   "name": "python3"
  },
  "language_info": {
   "codemirror_mode": {
    "name": "ipython",
    "version": 3
   },
   "file_extension": ".py",
   "mimetype": "text/x-python",
   "name": "python",
   "nbconvert_exporter": "python",
   "pygments_lexer": "ipython3",
   "version": "3.10.0"
  }
 },
 "nbformat": 4,
 "nbformat_minor": 5
}
